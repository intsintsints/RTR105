{
 "cells": [
  {
   "cell_type": "markdown",
   "metadata": {},
   "source": [
    "# Laboratorijas darbs - Teilora rindas.        Ints Murāns REBC01"
   ]
  },
  {
   "cell_type": "markdown",
   "metadata": {},
   "source": [
    "dotā funkcija sinh(x/2)"
   ]
  },
  {
   "cell_type": "markdown",
   "metadata": {},
   "source": [
    "Tiek importēts sinh no math."
   ]
  },
  {
   "cell_type": "code",
   "execution_count": 1,
   "metadata": {},
   "outputs": [],
   "source": [
    "from math import sinh"
   ]
  },
  {
   "cell_type": "markdown",
   "metadata": {},
   "source": [
    "Tiek definēta funkcija, ar kuru tiks aprēķināts sinh(x/2).\n",
    "\n",
    "No sākuma tiek aprēķināts pirmais elements un izprintēts.\n",
    "\n",
    "Tālāk tiek izveiodts cikls, kurā tiks izmanots pirmais elments, lai aprēķinātu tālāk 500 nākamos. Tos aprēķina ar rekurences reizinātāju R, kurš tika aprēķināts uz papīra specifiski šai funkcijai. \n",
    "\n",
    "Pēc pirmā elementa tiek izprinēti arī 499. un 500. elments.\n",
    "\n",
    "beigās tiek izdota aprēķinātā sinh(x/2) vērtība pie dotā x. (return S)"
   ]
  },
  {
   "cell_type": "code",
   "execution_count": 10,
   "metadata": {},
   "outputs": [],
   "source": [
    "def mans_hsinuss2(x):\n",
    "    k = 0\n",
    "    a = x**1/(2)\n",
    "    S = a\n",
    "    print(\"Izdruka no liet.f. a0 = %6.2f S0 = %6.2f\"%(a,S))\n",
    "    while k < 500:\n",
    "        k = k + 1\n",
    "        R = x*x/((2*k)*(2*k+1)*2**2)\n",
    "        a = a * R\n",
    "        S = S + a\n",
    "        if k == 499:\n",
    "             print(\"Izdruka no liet.f. a499 = %6.2f S499 = %6.2f\"%(a,S))\n",
    "    print(\"Izdruka no liet.f. a500 = %6.2f S500 = %6.2f\"%(a,S))\n",
    "    print(\"Izdruka no liet.f. Beigas!\")\n",
    "    return S"
   ]
  },
  {
   "cell_type": "markdown",
   "metadata": {},
   "source": [
    "Tiek pieprasīts no lietotāja argumenta vērtība x.\n",
    "\n",
    "Tiek piedefinēta funkcija y pēc tā sinh, kas importēts no math.\n",
    "\n",
    "Izprintē doto sinh(x/2) vērtību."
   ]
  },
  {
   "cell_type": "code",
   "execution_count": 12,
   "metadata": {},
   "outputs": [
    {
     "name": "stdout",
     "output_type": "stream",
     "text": [
      "Lietotāj, lūdzu, ievadi argumentu (x): 4\n",
      "standarta sinh(4.00) =   3.63\n"
     ]
    }
   ],
   "source": [
    "x = float(input(\"Lietotāj, lūdzu, ievadi argumentu (x): \"))\n",
    "y = sinh(x/2)\n",
    "print(\"standarta sinh(%.2f) = %6.2f\"%(x,y))\n"
   ]
  },
  {
   "cell_type": "markdown",
   "metadata": {},
   "source": [
    "Tiek piedefinēta funkcija yy pēc kodā izveidotā sinh.\n",
    "\n",
    "Izprintē aprēķināto sinh(x/2) vērtību."
   ]
  },
  {
   "cell_type": "code",
   "execution_count": 13,
   "metadata": {},
   "outputs": [
    {
     "name": "stdout",
     "output_type": "stream",
     "text": [
      "Izdruka no liet.f. a0 =   2.00 S0 =   2.00\n",
      "Izdruka no liet.f. a499 =   0.00 S499 =   3.63\n",
      "Izdruka no liet.f. a500 =   0.00 S500 =   3.63\n",
      "Izdruka no liet.f. Beigas!\n",
      "mans sinh(4.00) =   3.63\n"
     ]
    }
   ],
   "source": [
    "yy = mans_hsinuss2(x)\n",
    "print(\"mans sinh(%.2f) = %6.2f\"%(x,yy))"
   ]
  },
  {
   "cell_type": "markdown",
   "metadata": {},
   "source": [
    "Definē bezgalības simbolu.\n",
    "\n",
    "Tiek veidots zīmējums ar vairākām print funkcijā vienai zem otras."
   ]
  },
  {
   "cell_type": "code",
   "execution_count": 14,
   "metadata": {},
   "outputs": [
    {
     "name": "stdout",
     "output_type": "stream",
     "text": [
      " \n",
      "            500\n",
      "          _______\n",
      "          \\      2*k+1\n",
      "           \\    x\n",
      "sinh(4.00/2)=>  __________            D.a. -∞ < x < ∞ \n",
      "           /                2k+1    \n",
      "          /____ (2*k+1)! * 2\n",
      "           k=0\n",
      " \n",
      "                                2\n",
      "                               x \n",
      "rekurences reizinātājs: _________________\n",
      "                                         2\n",
      "                         k*2 * (k*2+1) *2\n"
     ]
    }
   ],
   "source": [
    "m=u\"\\u221E\"\n",
    "print(\" \")\n",
    "print(\"            500\")\n",
    "print(\"          _______\")\n",
    "print(\"          \\      2*k+1\")\n",
    "print(\"           \\    x\")\n",
    "print(\"sinh(%.2f/2)=>  __________            D.a. -%s < x < %s \"%(x,m,m))\n",
    "print(\"           /                2k+1    \")\n",
    "print(\"          /____ (2*k+1)! * 2\")\n",
    "print(\"           k=0\")\n",
    "print(\" \")\n",
    "print(\"                                2\")\n",
    "print(\"                               x \")\n",
    "print(\"rekurences reizinātājs: _________________\")\n",
    "print(\"                                         2\")\n",
    "print(\"                         k*2 * (k*2+1) *2\")"
   ]
  },
  {
   "cell_type": "code",
   "execution_count": null,
   "metadata": {},
   "outputs": [],
   "source": []
  }
 ],
 "metadata": {
  "kernelspec": {
   "display_name": "Python 3",
   "language": "python",
   "name": "python3"
  },
  "language_info": {
   "codemirror_mode": {
    "name": "ipython",
    "version": 3
   },
   "file_extension": ".py",
   "mimetype": "text/x-python",
   "name": "python",
   "nbconvert_exporter": "python",
   "pygments_lexer": "ipython3",
   "version": "3.6.7"
  }
 },
 "nbformat": 4,
 "nbformat_minor": 2
}
