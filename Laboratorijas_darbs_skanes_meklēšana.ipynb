{
 "cells": [
  {
   "cell_type": "markdown",
   "metadata": {},
   "source": [
    "# Laboratorijas darbs - saknes meklēšana."
   ]
  },
  {
   "cell_type": "markdown",
   "metadata": {},
   "source": [
    "Dotā funkcija sinh(x/2)\n"
   ]
  },
  {
   "cell_type": "markdown",
   "metadata": {},
   "source": [
    "Tiek importēts sinh un moduļa rēķināšanas komanda fabs no math\n",
    "\n",
    "Tiek importēta aizkavēšanas funkcija sleep no time\n"
   ]
  },
  {
   "cell_type": "code",
   "execution_count": 11,
   "metadata": {},
   "outputs": [],
   "source": [
    "from math import sinh, fabs\n",
    "from time import sleep"
   ]
  },
  {
   "cell_type": "markdown",
   "metadata": {},
   "source": [
    "Tiek definēta funkcija f(x)"
   ]
  },
  {
   "cell_type": "code",
   "execution_count": 12,
   "metadata": {},
   "outputs": [],
   "source": [
    "def f(x):\n",
    "    return sinh(x/2)"
   ]
  },
  {
   "cell_type": "markdown",
   "metadata": {},
   "source": [
    "Tiek definēti skaitļi, starp kuriem tiks meklēta sakne"
   ]
  },
  {
   "cell_type": "code",
   "execution_count": 13,
   "metadata": {},
   "outputs": [],
   "source": [
    "a = -0.5\n",
    "b = 3.2"
   ]
  },
  {
   "cell_type": "markdown",
   "metadata": {},
   "source": [
    "Tiek aprēķinātas funkcijas vērtības intervāla galapunktos"
   ]
  },
  {
   "cell_type": "code",
   "execution_count": 14,
   "metadata": {},
   "outputs": [],
   "source": [
    "funa = f(a)\n",
    "funb = f(b)"
   ]
  },
  {
   "cell_type": "markdown",
   "metadata": {},
   "source": [
    "Tiek noteikts vai šajā intervālā vispār ir saknes"
   ]
  },
  {
   "cell_type": "code",
   "execution_count": 15,
   "metadata": {},
   "outputs": [
    {
     "name": "stdout",
     "output_type": "stream",
     "text": [
      "Dotajaa intervaalaa sakne(s) ir!\n"
     ]
    }
   ],
   "source": [
    "if (funa * funb > 0.0):\n",
    "    print(\"Dotajaa intervaalaa [%s, %s] saknju nav\"%(a,b))\n",
    "    sleep(1); exit()  \n",
    "else:\n",
    "    print (\"Dotajaa intervaalaa sakne(s) ir!\")"
   ]
  },
  {
   "cell_type": "markdown",
   "metadata": {},
   "source": [
    "Definē precizitāti ar kuru meklēs sakni"
   ]
  },
  {
   "cell_type": "code",
   "execution_count": 16,
   "metadata": {},
   "outputs": [],
   "source": [
    "deltax = 0.01"
   ]
  },
  {
   "cell_type": "markdown",
   "metadata": {},
   "source": [
    "Tiek noteiktas saknes. Tas tiek noteikts cikliski samazinot robežas līdz galapunktu starpība ir mazāka par deltax(precizitāti). Lai noskaidrotu cik reizes vajag sašaurināt intervālu tiek ieviests mainīgais k un pie katras cikla izpildes tam tiek pieskaitīts 1.\n",
    "\n",
    "Argumenta gala vērtība ir abu galapunktu summas dalījums pret 2. Šo vērtibu ievieto dotajā funkcijā. Ja, reizinot to ar funkcijas vērtību intervāla sākumā ir mazāks par 0, tad intervāla galapunkts ir argumenta vērtība. Citādāk sākuma punkts ir argumenta gal vērtība. "
   ]
  },
  {
   "cell_type": "code",
   "execution_count": 17,
   "metadata": {},
   "outputs": [],
   "source": [
    "k=0\n",
    "while (fabs (b-a) > deltax ):\n",
    "    k=k + 1\n",
    "    x = (a+b)/2; funx = f(x)\n",
    "    if ( funa*funx < 0. ):\n",
    "        b=x\n",
    "    else:\n",
    "        a=x\n"
   ]
  },
  {
   "cell_type": "markdown",
   "metadata": {},
   "source": [
    "Aprēķina funkcijas vērtību pie argumenta vērtības."
   ]
  },
  {
   "cell_type": "code",
   "execution_count": 18,
   "metadata": {},
   "outputs": [],
   "source": [
    "deffunk = sinh(x/2)"
   ]
  },
  {
   "cell_type": "markdown",
   "metadata": {},
   "source": [
    "Izprintē argumenta vērtību, funkcijas vērtību, uz intervāla samazināšanas reižu skaitu."
   ]
  },
  {
   "cell_type": "code",
   "execution_count": 19,
   "metadata": {},
   "outputs": [
    {
     "name": "stdout",
     "output_type": "stream",
     "text": [
      "Sakne ir:  -0.001367187499999976\n",
      "Funkcijas vertiiba ir: -0.0006835938032405965\n",
      "Tik reizes vajadzeeja daliit uz puseem 9\n"
     ]
    }
   ],
   "source": [
    "print (\"Sakne ir: \", x)\n",
    "print (\"Funkcijas vertiiba ir:\", deffunk)\n",
    "print (\"Tik reizes vajadzeeja daliit uz puseem\", k)"
   ]
  }
 ],
 "metadata": {
  "kernelspec": {
   "display_name": "Python 3",
   "language": "python",
   "name": "python3"
  },
  "language_info": {
   "codemirror_mode": {
    "name": "ipython",
    "version": 3
   },
   "file_extension": ".py",
   "mimetype": "text/x-python",
   "name": "python",
   "nbconvert_exporter": "python",
   "pygments_lexer": "ipython3",
   "version": "3.6.7"
  }
 },
 "nbformat": 4,
 "nbformat_minor": 2
}
