{
 "cells": [
  {
   "cell_type": "markdown",
   "metadata": {},
   "source": [
    "# Laboratorijas darbs - atvasināšana.\n"
   ]
  },
  {
   "cell_type": "markdown",
   "metadata": {},
   "source": [
    "Dotā funkcija sinh(x/2)."
   ]
  },
  {
   "cell_type": "markdown",
   "metadata": {},
   "source": [
    "No numpy tiek importēts sinh un linspace."
   ]
  },
  {
   "cell_type": "code",
   "execution_count": 59,
   "metadata": {},
   "outputs": [],
   "source": [
    "from numpy import sinh, linspace"
   ]
  },
  {
   "cell_type": "markdown",
   "metadata": {},
   "source": [
    "Tiek piedefinēta funkcija sin(x/2)"
   ]
  },
  {
   "cell_type": "code",
   "execution_count": 60,
   "metadata": {},
   "outputs": [],
   "source": [
    "def f(x):\n",
    "    return sinh(x/2)"
   ]
  },
  {
   "cell_type": "markdown",
   "metadata": {},
   "source": [
    "Tiek iegūtas x vērtības, jeb masīvs ar skaitļiem. Definē funkciju y, jeb īsto sinh(x/2) funkciju."
   ]
  },
  {
   "cell_type": "code",
   "execution_count": 61,
   "metadata": {},
   "outputs": [],
   "source": [
    "x=linspace(0,4,11)\n",
    "y=f(x)"
   ]
  },
  {
   "cell_type": "markdown",
   "metadata": {},
   "source": [
    "Piedefinē masīvu, kurš parādīs informāciju par grafikiem."
   ]
  },
  {
   "cell_type": "code",
   "execution_count": 62,
   "metadata": {},
   "outputs": [],
   "source": [
    "legend = []"
   ]
  },
  {
   "cell_type": "markdown",
   "metadata": {},
   "source": [
    "\n",
    "No matplotlib importē pyplot funkciju kā plt."
   ]
  },
  {
   "cell_type": "code",
   "execution_count": 63,
   "metadata": {},
   "outputs": [],
   "source": [
    "from matplotlib import pyplot as plt"
   ]
  },
  {
   "cell_type": "markdown",
   "metadata": {},
   "source": [
    "N tiek definēts kā masīva x garums un deltax kā starpība starp pirmo un otro masīva vērtību. Derivative tiek definēts kā masīvs, kurā tiks saglabātas pirmā atvasinājuma vērtības."
   ]
  },
  {
   "cell_type": "code",
   "execution_count": 64,
   "metadata": {},
   "outputs": [],
   "source": [
    "N= len(x)\n",
    "deltax = x[1] - x[0]\n",
    "derivative = []"
   ]
  },
  {
   "cell_type": "markdown",
   "metadata": {},
   "source": [
    "Pēc atvasinājuma definīcijas, cikls aprēķina atvasinājuma vērtību katram x dotajā masīvā."
   ]
  },
  {
   "cell_type": "code",
   "execution_count": 65,
   "metadata": {},
   "outputs": [],
   "source": [
    "for i in range(N):\n",
    "    temp=(f(x[i] + deltax)-f(x[i])) / deltax\n",
    "    derivative.append(temp)"
   ]
  },
  {
   "cell_type": "markdown",
   "metadata": {},
   "source": [
    "Tiek definēts masīvs, kurā saglabās otrās pakāpes atvasinājuma vērtības."
   ]
  },
  {
   "cell_type": "code",
   "execution_count": 66,
   "metadata": {},
   "outputs": [],
   "source": [
    "derivative_through_array = []"
   ]
  },
  {
   "cell_type": "markdown",
   "metadata": {},
   "source": [
    "Lai iegūtu otrās pakāoes atvasinājumu ir nepiciešams iegūt vērtības caur masīvu."
   ]
  },
  {
   "cell_type": "code",
   "execution_count": 67,
   "metadata": {},
   "outputs": [],
   "source": [
    "for i in range (N-1):\n",
    "    temp = ((derivative[i+1])- derivative[i]) / deltax\n",
    "    derivative_through_array.append(temp)"
   ]
  },
  {
   "cell_type": "markdown",
   "metadata": {},
   "source": [
    "Tiek zīmēts grafiks ar pyplot."
   ]
  },
  {
   "cell_type": "code",
   "execution_count": 68,
   "metadata": {},
   "outputs": [
    {
     "data": {
      "image/png": "[encoded data removed]",
      "text/plain": [
       "<Figure size 432x288 with 1 Axes>"
      ]
     },
     "metadata": {
      "needs_background": "light"
     },
     "output_type": "display_data"
    }
   ],
   "source": [
    "plt.axis([-1, 6, -8, 4])\n",
    "plt.grid()\n",
    "plt.xlabel(\"x\")\n",
    "plt.ylabel(\"f(x)\")\n",
    "plt.title(\"funkcija $sinh(x/2)$ un taas atvasinaajumi\")\n",
    "plt.plot(x,y,\"k\")\n",
    "legend.append(\"$sinh(x/2)$ - funkcija - savienots ar taisnaam liinijaam\")\n",
    "plt.plot(x,y, \"ro\")\n",
    "legend.append(\"$sin(x/2)$ - dazhi punkti\")\n",
    "plt.plot(x,derivative,\"y\")\n",
    "legend.append(\"$sin(x/2)$ atvasinaajums -  savienots ar taisnaam liinijaam\")\n",
    "plt.plot(x,derivative,\"go\")\n",
    "legend.append(\"$sin(x/2)$ atvasinaajums - dazhi punkti\")\n",
    "plt.plot(x[0:N-1], derivative_through_array,\"m\")\n",
    "legend.append(\"$sins(x/2)$ 2. atvsinaajums - savienots ar taisnaam liinijaam\")\n",
    "plt.plot(x[0:N-1], derivative_through_array,\"bo\")\n",
    "legend.append(\"$sins(x/2)$ 2. atvasiinaajums, - dazhi punkti\")\n",
    "plt.plot(1.200, 0.640, \"ch\", markersize = 10)\n",
    "plt.legend(legend, loc= 3, fancybox=True, framealpha=0.5, )\n",
    "plt.show()"
   ]
  },
  {
   "cell_type": "code",
   "execution_count": null,
   "metadata": {},
   "outputs": [],
   "source": []
  }
 ],
 "metadata": {
  "kernelspec": {
   "display_name": "Python 3",
   "language": "python",
   "name": "python3"
  },
  "language_info": {
   "codemirror_mode": {
    "name": "ipython",
    "version": 3
   },
   "file_extension": ".py",
   "mimetype": "text/x-python",
   "name": "python",
   "nbconvert_exporter": "python",
   "pygments_lexer": "ipython3",
   "version": "3.6.7"
  }
 },
 "nbformat": 4,
 "nbformat_minor": 2
}
